{
 "cells": [
  {
   "cell_type": "code",
   "execution_count": null,
   "metadata": {},
   "outputs": [],
   "source": [
    "# pip install the ultralytics package\n",
    "!pip install ultralytics"
   ]
  },
  {
   "cell_type": "code",
   "execution_count": null,
   "metadata": {},
   "outputs": [],
   "source": [
    "# Import libraries\n",
    "from ultralytics import YOLO\n",
    "from torch.optim.lr_scheduler import LambdaLR, CosineAnnealingWarmRestarts\n",
    "from ultralytics.models.yolo.segment import SegmentationTrainer\n",
    "import math"
   ]
  },
  {
   "cell_type": "code",
   "execution_count": null,
   "metadata": {},
   "outputs": [],
   "source": [
    "# Import own classes\n",
    "class CustomTrainer(SegmentationTrainer):\n",
    "    def _setup_scheduler(self):\n",
    "        self.lf = lambda x: self.args.lr0 + 0.5 * (self.args.lr0 - self.args.lrf) * (1 + math.cos(math.pi * x))\n",
    "        self.scheduler = LambdaLR(self.optimizer, lr_lambda=self.lf)        "
   ]
  },
  {
   "cell_type": "code",
   "execution_count": null,
   "metadata": {},
   "outputs": [],
   "source": [
    "# MODEL NANO 8\n",
    "model_n = YOLO(\"yolov8n-seg.pt\") # This is the nano model\n",
    "results_n = model_n.train(trainer=CustomTrainer, data=\"./data/data.yaml\", epochs=100, imgsz=640, plots=True, lr0=0.001) "
   ]
  },
  {
   "cell_type": "code",
   "execution_count": null,
   "metadata": {},
   "outputs": [],
   "source": [
    "# MODEL SMALL 8\n",
    "model_s = YOLO(\"yolov8s-seg.pt\") # This is the small model\n",
    "results_s = model_s.train(trainer=CustomTrainer, data=\"./data/data.yaml\", epochs=100, imgsz=640, plots=True, lr0=0.001) \n"
   ]
  },
  {
   "cell_type": "code",
   "execution_count": null,
   "metadata": {},
   "outputs": [],
   "source": [
    "# MODEL MEDIUM 8\n",
    "model_m = YOLO(\"yolov8m-seg.pt\") # This is the medium model\n",
    "results_m = model_m.train(trainer=CustomTrainer, data=\"./data/data.yaml\", epochs=100, imgsz=640, plots=True, lr0=0.001) \n"
   ]
  },
  {
   "cell_type": "code",
   "execution_count": null,
   "metadata": {},
   "outputs": [],
   "source": [
    "# MODEL LARGE 8\n",
    "model_l = YOLO(\"yolov8l-seg.pt\") # This is the large model\n",
    "results_l = model_l.train(trainer=CustomTrainer, data=\"./data/data.yaml\", epochs=100, imgsz=640, plots=True, lr0=0.001) \n"
   ]
  },
  {
   "cell_type": "code",
   "execution_count": 1,
   "metadata": {},
   "outputs": [],
   "source": [
    "# MODEL XL 8\n",
    "model_x = YOLO(\"yolov8x-seg.pt\") # This is the XL model\n",
    "results_x = model_x.train(trainer=CustomTrainer, data=\"./data/data.yaml\", epochs=100, imgsz=640, plots=True, lr0=0.001) "
   ]
  },
  {
   "cell_type": "code",
   "execution_count": null,
   "metadata": {},
   "outputs": [],
   "source": [
    "# MODEL C 9\n",
    "model_c = YOLO(\"yolov9c-seg.pt\") # This is the model\n",
    "results_c = model_c.train(trainer=CustomTrainer, data=\"./data/data.yaml\", epochs=100, imgsz=640, plots=True, lr0=0.001)\n"
   ]
  },
  {
   "cell_type": "code",
   "execution_count": null,
   "metadata": {},
   "outputs": [],
   "source": [
    "# MODEL E 9\n",
    "model_e = YOLO(\"yolov9e-seg.pt\") # This is the model\n",
    "results_e = model_e.train(trainer=CustomTrainer, data=\"./data/data.yaml\", epochs=100, imgsz=640, plots=True, lr0=0.001)\n"
   ]
  }
 ],
 "metadata": {
  "kernelspec": {
   "display_name": "Python 3",
   "language": "python",
   "name": "python3"
  },
  "language_info": {
   "codemirror_mode": {
    "name": "ipython",
    "version": 3
   },
   "file_extension": ".py",
   "mimetype": "text/x-python",
   "name": "python",
   "nbconvert_exporter": "python",
   "pygments_lexer": "ipython3",
   "version": "3.9.7"
  },
  "orig_nbformat": 4,
  "vscode": {
   "interpreter": {
    "hash": "397704579725e15f5c7cb49fe5f0341eb7531c82d19f2c29d197e8b64ab5776b"
   }
  }
 },
 "nbformat": 4,
 "nbformat_minor": 2
}
